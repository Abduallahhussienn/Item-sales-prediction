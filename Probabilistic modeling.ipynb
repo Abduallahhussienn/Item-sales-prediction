{
 "cells": [
  {
   "cell_type": "markdown",
   "id": "b4c8b311",
   "metadata": {},
   "source": [
    "<h1><center><i><b><font color='red'>Predict Item Sales using Regression Techniques\n",
    "          </font></b></i></center> </h1>"
   ]
  },
  {
   "cell_type": "markdown",
   "id": "05ddea6e",
   "metadata": {},
   "source": [
    "<h1><font color = 'red'><b>BY :</b></h1>\n",
    "\n",
    "<h3><font color = 'darkblue'>1. Abduallah Hussien </h3>\n",
    "\n",
    "<h3><font color = 'darkblue'>2. Sherif Essam</h3>\n",
    "\n",
    "<h3><font color = 'darkblue'>3. Rawan Sayed</h3>\n",
    "\n",
    "<h3><font color = 'darkblue'>4. Nouran Hany</h3>\n",
    "\n",
    "<h3><font color = 'darkblue'>5. Aly Mamdouh</h3>\n",
    "\n",
    "<h3><font color = 'darkblue'>6. Mahmoud Moustafa</h3>"
   ]
  },
  {
   "cell_type": "markdown",
   "id": "76d2fdcb",
   "metadata": {},
   "source": [
    "## Imports"
   ]
  },
  {
   "cell_type": "code",
   "execution_count": 79,
   "id": "421df5f2",
   "metadata": {},
   "outputs": [],
   "source": [
    "import seaborn as sns\n",
    "import numpy as np\n",
    "import pandas as pd\n",
    "import matplotlib.pyplot as plt\n",
    "from time import time\n",
    "%matplotlib inline\n",
    "from sklearn import preprocessing\n",
    "from sklearn.preprocessing import StandardScaler,normalize, MinMaxScaler\n",
    "from sklearn.metrics import mean_squared_error\n",
    "from sklearn.model_selection import StratifiedKFold\n",
    "# importing machine learning models for prediction\n",
    "from sklearn.linear_model import LinearRegression\n",
    "from catboost import CatBoostRegressor\n",
    "from sklearn.svm import SVR\n",
    "from sklearn.ensemble import RandomForestRegressor,AdaBoostRegressor,GradientBoostingRegressor\n",
    "from sklearn.tree import DecisionTreeRegressor\n",
    "import lightgbm as lgb\n",
    "import xgboost as xgb\n",
    "from sklearn.neural_network import MLPRegressor\n",
    "from sklearn.experimental import enable_iterative_imputer\n",
    "from sklearn.impute import IterativeImputer"
   ]
  },
  {
   "cell_type": "markdown",
   "id": "9ffb9693",
   "metadata": {},
   "source": [
    "## Read train and test csv files"
   ]
  },
  {
   "cell_type": "code",
   "execution_count": 80,
   "id": "297a27d2",
   "metadata": {},
   "outputs": [],
   "source": [
    "df_train = pd.read_csv(\"train.csv\",na_values=' ')\n",
    "df_test = pd.read_csv(\"test.csv\",na_values=' ')"
   ]
  },
  {
   "cell_type": "markdown",
   "id": "cfa1d864",
   "metadata": {},
   "source": [
    "## Print first 5 rows in train dataset"
   ]
  },
  {
   "cell_type": "code",
   "execution_count": 81,
   "id": "b6446494",
   "metadata": {},
   "outputs": [
    {
     "data": {
      "text/html": [
       "<div>\n",
       "<style scoped>\n",
       "    .dataframe tbody tr th:only-of-type {\n",
       "        vertical-align: middle;\n",
       "    }\n",
       "\n",
       "    .dataframe tbody tr th {\n",
       "        vertical-align: top;\n",
       "    }\n",
       "\n",
       "    .dataframe thead th {\n",
       "        text-align: right;\n",
       "    }\n",
       "</style>\n",
       "<table border=\"1\" class=\"dataframe\">\n",
       "  <thead>\n",
       "    <tr style=\"text-align: right;\">\n",
       "      <th></th>\n",
       "      <th>X1</th>\n",
       "      <th>X2</th>\n",
       "      <th>X3</th>\n",
       "      <th>X4</th>\n",
       "      <th>X5</th>\n",
       "      <th>X6</th>\n",
       "      <th>X7</th>\n",
       "      <th>X8</th>\n",
       "      <th>X9</th>\n",
       "      <th>X10</th>\n",
       "      <th>X11</th>\n",
       "      <th>Y</th>\n",
       "    </tr>\n",
       "  </thead>\n",
       "  <tbody>\n",
       "    <tr>\n",
       "      <th>0</th>\n",
       "      <td>FDA15</td>\n",
       "      <td>9.30</td>\n",
       "      <td>Low Fat</td>\n",
       "      <td>0.016047</td>\n",
       "      <td>Dairy</td>\n",
       "      <td>249.8092</td>\n",
       "      <td>OUT049</td>\n",
       "      <td>1999</td>\n",
       "      <td>Medium</td>\n",
       "      <td>Tier 1</td>\n",
       "      <td>Supermarket Type1</td>\n",
       "      <td>3735.1380</td>\n",
       "    </tr>\n",
       "    <tr>\n",
       "      <th>1</th>\n",
       "      <td>DRC01</td>\n",
       "      <td>5.92</td>\n",
       "      <td>Regular</td>\n",
       "      <td>0.019278</td>\n",
       "      <td>Soft Drinks</td>\n",
       "      <td>48.2692</td>\n",
       "      <td>OUT018</td>\n",
       "      <td>2009</td>\n",
       "      <td>Medium</td>\n",
       "      <td>Tier 3</td>\n",
       "      <td>Supermarket Type2</td>\n",
       "      <td>443.4228</td>\n",
       "    </tr>\n",
       "    <tr>\n",
       "      <th>2</th>\n",
       "      <td>FDN15</td>\n",
       "      <td>17.50</td>\n",
       "      <td>Low Fat</td>\n",
       "      <td>0.016760</td>\n",
       "      <td>Meat</td>\n",
       "      <td>141.6180</td>\n",
       "      <td>OUT049</td>\n",
       "      <td>1999</td>\n",
       "      <td>Medium</td>\n",
       "      <td>Tier 1</td>\n",
       "      <td>Supermarket Type1</td>\n",
       "      <td>2097.2700</td>\n",
       "    </tr>\n",
       "    <tr>\n",
       "      <th>3</th>\n",
       "      <td>FDX07</td>\n",
       "      <td>19.20</td>\n",
       "      <td>Regular</td>\n",
       "      <td>0.000000</td>\n",
       "      <td>Fruits and Vegetables</td>\n",
       "      <td>182.0950</td>\n",
       "      <td>OUT010</td>\n",
       "      <td>1998</td>\n",
       "      <td>NaN</td>\n",
       "      <td>Tier 3</td>\n",
       "      <td>Grocery Store</td>\n",
       "      <td>732.3800</td>\n",
       "    </tr>\n",
       "    <tr>\n",
       "      <th>4</th>\n",
       "      <td>NCD19</td>\n",
       "      <td>8.93</td>\n",
       "      <td>Low Fat</td>\n",
       "      <td>0.000000</td>\n",
       "      <td>Household</td>\n",
       "      <td>53.8614</td>\n",
       "      <td>OUT013</td>\n",
       "      <td>1987</td>\n",
       "      <td>High</td>\n",
       "      <td>Tier 3</td>\n",
       "      <td>Supermarket Type1</td>\n",
       "      <td>994.7052</td>\n",
       "    </tr>\n",
       "  </tbody>\n",
       "</table>\n",
       "</div>"
      ],
      "text/plain": [
       "      X1     X2       X3        X4                     X5        X6      X7  \\\n",
       "0  FDA15   9.30  Low Fat  0.016047                  Dairy  249.8092  OUT049   \n",
       "1  DRC01   5.92  Regular  0.019278            Soft Drinks   48.2692  OUT018   \n",
       "2  FDN15  17.50  Low Fat  0.016760                   Meat  141.6180  OUT049   \n",
       "3  FDX07  19.20  Regular  0.000000  Fruits and Vegetables  182.0950  OUT010   \n",
       "4  NCD19   8.93  Low Fat  0.000000              Household   53.8614  OUT013   \n",
       "\n",
       "     X8      X9     X10                X11          Y  \n",
       "0  1999  Medium  Tier 1  Supermarket Type1  3735.1380  \n",
       "1  2009  Medium  Tier 3  Supermarket Type2   443.4228  \n",
       "2  1999  Medium  Tier 1  Supermarket Type1  2097.2700  \n",
       "3  1998     NaN  Tier 3      Grocery Store   732.3800  \n",
       "4  1987    High  Tier 3  Supermarket Type1   994.7052  "
      ]
     },
     "execution_count": 81,
     "metadata": {},
     "output_type": "execute_result"
    }
   ],
   "source": [
    "df_train.head()"
   ]
  },
  {
   "cell_type": "markdown",
   "id": "1da7ef32",
   "metadata": {},
   "source": [
    "## Use .describe() to get some details of each numerical column in dataset"
   ]
  },
  {
   "cell_type": "code",
   "execution_count": 82,
   "id": "0621c4c8",
   "metadata": {},
   "outputs": [
    {
     "data": {
      "text/html": [
       "<div>\n",
       "<style scoped>\n",
       "    .dataframe tbody tr th:only-of-type {\n",
       "        vertical-align: middle;\n",
       "    }\n",
       "\n",
       "    .dataframe tbody tr th {\n",
       "        vertical-align: top;\n",
       "    }\n",
       "\n",
       "    .dataframe thead th {\n",
       "        text-align: right;\n",
       "    }\n",
       "</style>\n",
       "<table border=\"1\" class=\"dataframe\">\n",
       "  <thead>\n",
       "    <tr style=\"text-align: right;\">\n",
       "      <th></th>\n",
       "      <th>count</th>\n",
       "      <th>mean</th>\n",
       "      <th>std</th>\n",
       "      <th>min</th>\n",
       "      <th>25%</th>\n",
       "      <th>50%</th>\n",
       "      <th>75%</th>\n",
       "      <th>max</th>\n",
       "    </tr>\n",
       "  </thead>\n",
       "  <tbody>\n",
       "    <tr>\n",
       "      <th>X2</th>\n",
       "      <td>4994.0</td>\n",
       "      <td>12.956536</td>\n",
       "      <td>4.658851</td>\n",
       "      <td>4.555</td>\n",
       "      <td>8.89500</td>\n",
       "      <td>12.80000</td>\n",
       "      <td>17.100000</td>\n",
       "      <td>21.350000</td>\n",
       "    </tr>\n",
       "    <tr>\n",
       "      <th>X4</th>\n",
       "      <td>6000.0</td>\n",
       "      <td>0.066333</td>\n",
       "      <td>0.051492</td>\n",
       "      <td>0.000</td>\n",
       "      <td>0.02703</td>\n",
       "      <td>0.05462</td>\n",
       "      <td>0.095154</td>\n",
       "      <td>0.328391</td>\n",
       "    </tr>\n",
       "    <tr>\n",
       "      <th>X6</th>\n",
       "      <td>6000.0</td>\n",
       "      <td>141.228200</td>\n",
       "      <td>62.540569</td>\n",
       "      <td>31.290</td>\n",
       "      <td>94.03765</td>\n",
       "      <td>143.19700</td>\n",
       "      <td>186.522050</td>\n",
       "      <td>266.888400</td>\n",
       "    </tr>\n",
       "    <tr>\n",
       "      <th>X8</th>\n",
       "      <td>6000.0</td>\n",
       "      <td>1997.840333</td>\n",
       "      <td>8.334412</td>\n",
       "      <td>1985.000</td>\n",
       "      <td>1987.00000</td>\n",
       "      <td>1999.00000</td>\n",
       "      <td>2004.000000</td>\n",
       "      <td>2009.000000</td>\n",
       "    </tr>\n",
       "    <tr>\n",
       "      <th>Y</th>\n",
       "      <td>6000.0</td>\n",
       "      <td>2188.996045</td>\n",
       "      <td>1701.705046</td>\n",
       "      <td>33.290</td>\n",
       "      <td>850.89240</td>\n",
       "      <td>1804.65090</td>\n",
       "      <td>3099.964800</td>\n",
       "      <td>12117.560000</td>\n",
       "    </tr>\n",
       "  </tbody>\n",
       "</table>\n",
       "</div>"
      ],
      "text/plain": [
       "     count         mean          std       min         25%         50%  \\\n",
       "X2  4994.0    12.956536     4.658851     4.555     8.89500    12.80000   \n",
       "X4  6000.0     0.066333     0.051492     0.000     0.02703     0.05462   \n",
       "X6  6000.0   141.228200    62.540569    31.290    94.03765   143.19700   \n",
       "X8  6000.0  1997.840333     8.334412  1985.000  1987.00000  1999.00000   \n",
       "Y   6000.0  2188.996045  1701.705046    33.290   850.89240  1804.65090   \n",
       "\n",
       "            75%           max  \n",
       "X2    17.100000     21.350000  \n",
       "X4     0.095154      0.328391  \n",
       "X6   186.522050    266.888400  \n",
       "X8  2004.000000   2009.000000  \n",
       "Y   3099.964800  12117.560000  "
      ]
     },
     "execution_count": 82,
     "metadata": {},
     "output_type": "execute_result"
    }
   ],
   "source": [
    "df_train.describe().T"
   ]
  },
  {
   "cell_type": "markdown",
   "id": "966505ec",
   "metadata": {},
   "source": [
    "## Use isna().sum() to check nulls count in each column"
   ]
  },
  {
   "cell_type": "code",
   "execution_count": 83,
   "id": "f9abdab0",
   "metadata": {},
   "outputs": [
    {
     "data": {
      "text/plain": [
       "X1        0\n",
       "X2     1006\n",
       "X3        0\n",
       "X4        0\n",
       "X5        0\n",
       "X6        0\n",
       "X7        0\n",
       "X8        0\n",
       "X9     1711\n",
       "X10       0\n",
       "X11       0\n",
       "Y         0\n",
       "dtype: int64"
      ]
     },
     "execution_count": 83,
     "metadata": {},
     "output_type": "execute_result"
    }
   ],
   "source": [
    "df_train.isna().sum()"
   ]
  },
  {
   "cell_type": "markdown",
   "id": "b5b0d23d",
   "metadata": {},
   "source": [
    "## Use .info() to know data type of each column in our dataset"
   ]
  },
  {
   "cell_type": "code",
   "execution_count": 84,
   "id": "77c99988",
   "metadata": {
    "scrolled": true
   },
   "outputs": [
    {
     "name": "stdout",
     "output_type": "stream",
     "text": [
      "<class 'pandas.core.frame.DataFrame'>\n",
      "RangeIndex: 6000 entries, 0 to 5999\n",
      "Data columns (total 12 columns):\n",
      " #   Column  Non-Null Count  Dtype  \n",
      "---  ------  --------------  -----  \n",
      " 0   X1      6000 non-null   object \n",
      " 1   X2      4994 non-null   float64\n",
      " 2   X3      6000 non-null   object \n",
      " 3   X4      6000 non-null   float64\n",
      " 4   X5      6000 non-null   object \n",
      " 5   X6      6000 non-null   float64\n",
      " 6   X7      6000 non-null   object \n",
      " 7   X8      6000 non-null   int64  \n",
      " 8   X9      4289 non-null   object \n",
      " 9   X10     6000 non-null   object \n",
      " 10  X11     6000 non-null   object \n",
      " 11  Y       6000 non-null   float64\n",
      "dtypes: float64(4), int64(1), object(7)\n",
      "memory usage: 562.6+ KB\n"
     ]
    }
   ],
   "source": [
    "df_train.info()"
   ]
  },
  {
   "cell_type": "code",
   "execution_count": 85,
   "id": "4deab3c8",
   "metadata": {},
   "outputs": [],
   "source": [
    "categorical_features = ['X3', 'X5', 'X7', 'X8','X9', 'X10', 'X11']"
   ]
  },
  {
   "cell_type": "code",
   "execution_count": 86,
   "id": "b8ef4b0f",
   "metadata": {},
   "outputs": [],
   "source": [
    "numerical_features = ['X2', 'X4', 'X6','Y']"
   ]
  },
  {
   "cell_type": "markdown",
   "id": "79e12f3a",
   "metadata": {},
   "source": [
    "## Plot histogram of each numerical feature in dataset to help me check the skewness in each of those feature"
   ]
  },
  {
   "cell_type": "code",
   "execution_count": 87,
   "id": "8f02d798",
   "metadata": {
    "scrolled": false
   },
   "outputs": [
    {
     "data": {
      "image/png": "[encoded data removed]",
      "text/plain": [
       "<Figure size 432x288 with 1 Axes>"
      ]
     },
     "metadata": {
      "needs_background": "light"
     },
     "output_type": "display_data"
    },
    {
     "data": {
      "image/png": "[encoded data removed]",
      "text/plain": [
       "<Figure size 432x288 with 1 Axes>"
      ]
     },
     "metadata": {
      "needs_background": "light"
     },
     "output_type": "display_data"
    },
    {
     "data": {
      "image/png": "[encoded data removed]",
      "text/plain": [
       "<Figure size 432x288 with 1 Axes>"
      ]
     },
     "metadata": {
      "needs_background": "light"
     },
     "output_type": "display_data"
    },
    {
     "data": {
      "image/png": "[encoded data removed]",
      "text/plain": [
       "<Figure size 432x288 with 1 Axes>"
      ]
     },
     "metadata": {
      "needs_background": "light"
     },
     "output_type": "display_data"
    }
   ],
   "source": [
    "for i in numerical_features:\n",
    "    plt.hist(df_train[i], color='yellow', edgecolor='black', linewidth=2)\n",
    "    plt.title(i)\n",
    "    plt.show()"
   ]
  },
  {
   "cell_type": "markdown",
   "id": "91040723",
   "metadata": {},
   "source": [
    "## As we saw there is skewness in X4 and Y features the we will calculate the square root of each of them to have normal distribution"
   ]
  },
  {
   "cell_type": "code",
   "execution_count": 88,
   "id": "1edbad84",
   "metadata": {},
   "outputs": [],
   "source": [
    "df_train['Y']=round(np.sqrt(df_train['Y']),1)\n",
    "df_train['X4']=round(np.sqrt(df_train['X4']),1)"
   ]
  },
  {
   "cell_type": "markdown",
   "id": "d03b2e2f",
   "metadata": {},
   "source": [
    "## Histograms after calculating the square root of each of X4 and Y"
   ]
  },
  {
   "cell_type": "code",
   "execution_count": 89,
   "id": "fe50e71e",
   "metadata": {
    "scrolled": true
   },
   "outputs": [
    {
     "data": {
      "image/png": "[encoded data removed]",
      "text/plain": [
       "<Figure size 432x288 with 1 Axes>"
      ]
     },
     "metadata": {
      "needs_background": "light"
     },
     "output_type": "display_data"
    },
    {
     "data": {
      "image/png": "[encoded data removed]",
      "text/plain": [
       "<Figure size 432x288 with 1 Axes>"
      ]
     },
     "metadata": {
      "needs_background": "light"
     },
     "output_type": "display_data"
    },
    {
     "data": {
      "image/png": "[encoded data removed]",
      "text/plain": [
       "<Figure size 432x288 with 1 Axes>"
      ]
     },
     "metadata": {
      "needs_background": "light"
     },
     "output_type": "display_data"
    },
    {
     "data": {
      "image/png": "[encoded data removed]",
      "text/plain": [
       "<Figure size 432x288 with 1 Axes>"
      ]
     },
     "metadata": {
      "needs_background": "light"
     },
     "output_type": "display_data"
    }
   ],
   "source": [
    "for i in numerical_features:\n",
    "    plt.hist(df_train[i], color='yellow', edgecolor='black', linewidth=2)\n",
    "    plt.title(i)\n",
    "    plt.show()"
   ]
  },
  {
   "cell_type": "markdown",
   "id": "03b95c8a",
   "metadata": {},
   "source": [
    "## Plot boxplots of each numerical feature in dataset to help me check the outliers in each of those features"
   ]
  },
  {
   "cell_type": "code",
   "execution_count": 90,
   "id": "ba91a961",
   "metadata": {
    "scrolled": false
   },
   "outputs": [
    {
     "data": {
      "image/png": "[encoded data removed]",
      "text/plain": [
       "<Figure size 432x288 with 1 Axes>"
      ]
     },
     "metadata": {
      "needs_background": "light"
     },
     "output_type": "display_data"
    },
    {
     "data": {
      "image/png": "[encoded data removed]",
      "text/plain": [
       "<Figure size 432x288 with 1 Axes>"
      ]
     },
     "metadata": {
      "needs_background": "light"
     },
     "output_type": "display_data"
    },
    {
     "data": {
      "image/png": "[encoded data removed]",
      "text/plain": [
       "<Figure size 432x288 with 1 Axes>"
      ]
     },
     "metadata": {
      "needs_background": "light"
     },
     "output_type": "display_data"
    },
    {
     "data": {
      "image/png": "[encoded data removed]",
      "text/plain": [
       "<Figure size 432x288 with 1 Axes>"
      ]
     },
     "metadata": {
      "needs_background": "light"
     },
     "output_type": "display_data"
    }
   ],
   "source": [
    "for i in numerical_features:\n",
    "    sns.boxplot(y=df_train[i])\n",
    "    plt.title(i)\n",
    "    plt.show()"
   ]
  },
  {
   "cell_type": "markdown",
   "id": "24c6dc2a",
   "metadata": {},
   "source": [
    "## As we saw there is outliers in X4 and Y features then we will make some calculations on those features to fix the problem of outliers"
   ]
  },
  {
   "cell_type": "code",
   "execution_count": 91,
   "id": "1cdd77e6",
   "metadata": {},
   "outputs": [],
   "source": [
    "outliers_features = ['Y','X4']"
   ]
  },
  {
   "cell_type": "code",
   "execution_count": 92,
   "id": "5fb15157",
   "metadata": {},
   "outputs": [],
   "source": [
    "for i in outliers_features:\n",
    "    #Finding upper and lower limt for features in train set\n",
    "    Inter_Quartile_Range = df_train[i].quantile(0.75) - df_train[i].quantile(0.25)\n",
    "\n",
    "    lower_boundary = df_train[i].quantile(0.25) - (Inter_Quartile_Range * 1.5)\n",
    "    upper_boundary = df_train[i].quantile(0.75) + (Inter_Quartile_Range * 1.5)\n",
    "    df_train[i]= np.where(df_train[i] > upper_boundary, upper_boundary,np.where(df_train[i] < lower_boundary, lower_boundary,df_train[i]))"
   ]
  },
  {
   "cell_type": "markdown",
   "id": "99604dca",
   "metadata": {},
   "source": [
    "## Boxplots after applying calculations on each of X4 and Y features"
   ]
  },
  {
   "cell_type": "code",
   "execution_count": 93,
   "id": "9a8b4bf0",
   "metadata": {
    "scrolled": false
   },
   "outputs": [
    {
     "data": {
      "image/png": "[encoded data removed]",
      "text/plain": [
       "<Figure size 432x288 with 1 Axes>"
      ]
     },
     "metadata": {
      "needs_background": "light"
     },
     "output_type": "display_data"
    },
    {
     "data": {
      "image/png": "[encoded data removed]",
      "text/plain": [
       "<Figure size 432x288 with 1 Axes>"
      ]
     },
     "metadata": {
      "needs_background": "light"
     },
     "output_type": "display_data"
    }
   ],
   "source": [
    "for i in outliers_features:\n",
    "    sns.boxplot(y=df_train[i])\n",
    "    plt.title(i)\n",
    "    plt.show()"
   ]
  },
  {
   "cell_type": "markdown",
   "id": "b11b5f73",
   "metadata": {},
   "source": [
    "## Get the category that has the most count in X9 to fill the nulls with it  "
   ]
  },
  {
   "cell_type": "code",
   "execution_count": 94,
   "id": "e68617e0",
   "metadata": {},
   "outputs": [
    {
     "name": "stdout",
     "output_type": "stream",
     "text": [
      "0    Medium\n",
      "dtype: object\n"
     ]
    }
   ],
   "source": [
    "print(df_train['X9'].mode())"
   ]
  },
  {
   "cell_type": "code",
   "execution_count": 95,
   "id": "d98f49c3",
   "metadata": {},
   "outputs": [],
   "source": [
    "df_train['X9'].fillna('Medium', inplace= True)"
   ]
  },
  {
   "cell_type": "markdown",
   "id": "ad6370f5",
   "metadata": {},
   "source": [
    "## Plot countplot on each categorical feature in dataset"
   ]
  },
  {
   "cell_type": "code",
   "execution_count": 96,
   "id": "9f43c0d5",
   "metadata": {
    "scrolled": false
   },
   "outputs": [
    {
     "data": {
      "image/png": "[encoded data removed]",
      "text/plain": [
       "<Figure size 864x576 with 1 Axes>"
      ]
     },
     "metadata": {},
     "output_type": "display_data"
    },
    {
     "data": {
      "image/png": "[encoded data removed]",
      "text/plain": [
       "<Figure size 864x576 with 1 Axes>"
      ]
     },
     "metadata": {},
     "output_type": "display_data"
    },
    {
     "data": {
      "image/png": "[encoded data removed]",
      "text/plain": [
       "<Figure size 864x576 with 1 Axes>"
      ]
     },
     "metadata": {},
     "output_type": "display_data"
    },
    {
     "data": {
      "image/png": "[encoded data removed]",
      "text/plain": [
       "<Figure size 864x576 with 1 Axes>"
      ]
     },
     "metadata": {},
     "output_type": "display_data"
    },
    {
     "data": {
      "image/png": "[encoded data removed]",
      "text/plain": [
       "<Figure size 864x576 with 1 Axes>"
      ]
     },
     "metadata": {},
     "output_type": "display_data"
    },
    {
     "data": {
      "image/png": "[encoded data removed]",
      "text/plain": [
       "<Figure size 864x576 with 1 Axes>"
      ]
     },
     "metadata": {},
     "output_type": "display_data"
    },
    {
     "data": {
      "image/png": "[encoded data removed]",
      "text/plain": [
       "<Figure size 864x576 with 1 Axes>"
      ]
     },
     "metadata": {},
     "output_type": "display_data"
    }
   ],
   "source": [
    "for i in categorical_features:\n",
    "    sns.set(rc={\"figure.figsize\":(12, 8)})\n",
    "    ax=sns.countplot(x=df_train[i], data=df_train);\n",
    "    plt.title(i)\n",
    "    plt.show()"
   ]
  },
  {
   "cell_type": "markdown",
   "id": "829cb1d6",
   "metadata": {},
   "source": [
    "## Use labelencoder to label each category from 0 to n category"
   ]
  },
  {
   "cell_type": "code",
   "execution_count": 97,
   "id": "3bdaa479",
   "metadata": {},
   "outputs": [
    {
     "data": {
      "text/html": [
       "<div>\n",
       "<style scoped>\n",
       "    .dataframe tbody tr th:only-of-type {\n",
       "        vertical-align: middle;\n",
       "    }\n",
       "\n",
       "    .dataframe tbody tr th {\n",
       "        vertical-align: top;\n",
       "    }\n",
       "\n",
       "    .dataframe thead th {\n",
       "        text-align: right;\n",
       "    }\n",
       "</style>\n",
       "<table border=\"1\" class=\"dataframe\">\n",
       "  <thead>\n",
       "    <tr style=\"text-align: right;\">\n",
       "      <th></th>\n",
       "      <th>X1</th>\n",
       "      <th>X2</th>\n",
       "      <th>X3</th>\n",
       "      <th>X4</th>\n",
       "      <th>X5</th>\n",
       "      <th>X6</th>\n",
       "      <th>X7</th>\n",
       "      <th>X8</th>\n",
       "      <th>X9</th>\n",
       "      <th>X10</th>\n",
       "      <th>X11</th>\n",
       "      <th>Y</th>\n",
       "    </tr>\n",
       "  </thead>\n",
       "  <tbody>\n",
       "    <tr>\n",
       "      <th>0</th>\n",
       "      <td>FDA15</td>\n",
       "      <td>9.30</td>\n",
       "      <td>1</td>\n",
       "      <td>0.10</td>\n",
       "      <td>4</td>\n",
       "      <td>249.8092</td>\n",
       "      <td>9</td>\n",
       "      <td>4</td>\n",
       "      <td>1</td>\n",
       "      <td>0</td>\n",
       "      <td>1</td>\n",
       "      <td>61.1</td>\n",
       "    </tr>\n",
       "    <tr>\n",
       "      <th>1</th>\n",
       "      <td>DRC01</td>\n",
       "      <td>5.92</td>\n",
       "      <td>2</td>\n",
       "      <td>0.10</td>\n",
       "      <td>14</td>\n",
       "      <td>48.2692</td>\n",
       "      <td>3</td>\n",
       "      <td>8</td>\n",
       "      <td>1</td>\n",
       "      <td>2</td>\n",
       "      <td>2</td>\n",
       "      <td>21.1</td>\n",
       "    </tr>\n",
       "    <tr>\n",
       "      <th>2</th>\n",
       "      <td>FDN15</td>\n",
       "      <td>17.50</td>\n",
       "      <td>1</td>\n",
       "      <td>0.10</td>\n",
       "      <td>10</td>\n",
       "      <td>141.6180</td>\n",
       "      <td>9</td>\n",
       "      <td>4</td>\n",
       "      <td>1</td>\n",
       "      <td>0</td>\n",
       "      <td>1</td>\n",
       "      <td>45.8</td>\n",
       "    </tr>\n",
       "    <tr>\n",
       "      <th>3</th>\n",
       "      <td>FDX07</td>\n",
       "      <td>19.20</td>\n",
       "      <td>2</td>\n",
       "      <td>0.05</td>\n",
       "      <td>6</td>\n",
       "      <td>182.0950</td>\n",
       "      <td>0</td>\n",
       "      <td>3</td>\n",
       "      <td>1</td>\n",
       "      <td>2</td>\n",
       "      <td>0</td>\n",
       "      <td>27.1</td>\n",
       "    </tr>\n",
       "    <tr>\n",
       "      <th>4</th>\n",
       "      <td>NCD19</td>\n",
       "      <td>8.93</td>\n",
       "      <td>1</td>\n",
       "      <td>0.05</td>\n",
       "      <td>9</td>\n",
       "      <td>53.8614</td>\n",
       "      <td>1</td>\n",
       "      <td>1</td>\n",
       "      <td>0</td>\n",
       "      <td>2</td>\n",
       "      <td>1</td>\n",
       "      <td>31.5</td>\n",
       "    </tr>\n",
       "  </tbody>\n",
       "</table>\n",
       "</div>"
      ],
      "text/plain": [
       "      X1     X2  X3    X4  X5        X6  X7  X8  X9  X10  X11     Y\n",
       "0  FDA15   9.30   1  0.10   4  249.8092   9   4   1    0    1  61.1\n",
       "1  DRC01   5.92   2  0.10  14   48.2692   3   8   1    2    2  21.1\n",
       "2  FDN15  17.50   1  0.10  10  141.6180   9   4   1    0    1  45.8\n",
       "3  FDX07  19.20   2  0.05   6  182.0950   0   3   1    2    0  27.1\n",
       "4  NCD19   8.93   1  0.05   9   53.8614   1   1   0    2    1  31.5"
      ]
     },
     "execution_count": 97,
     "metadata": {},
     "output_type": "execute_result"
    }
   ],
   "source": [
    "le = preprocessing.LabelEncoder()\n",
    "for i in categorical_features:\n",
    "    df_train[i]= le.fit_transform(df_train[i])\n",
    "df_train.head()"
   ]
  },
  {
   "cell_type": "code",
   "execution_count": 98,
   "id": "2034e77d",
   "metadata": {},
   "outputs": [
    {
     "data": {
      "text/plain": [
       "X1        0\n",
       "X2     1006\n",
       "X3        0\n",
       "X4        0\n",
       "X5        0\n",
       "X6        0\n",
       "X7        0\n",
       "X8        0\n",
       "X9        0\n",
       "X10       0\n",
       "X11       0\n",
       "Y         0\n",
       "dtype: int64"
      ]
     },
     "execution_count": 98,
     "metadata": {},
     "output_type": "execute_result"
    }
   ],
   "source": [
    "df_train.isna().sum()"
   ]
  },
  {
   "cell_type": "markdown",
   "id": "5e513321",
   "metadata": {},
   "source": [
    "## Now we should fix the problem of nulls in X2 feature.\n",
    "### There are many methods but i choose to make a linear regression model to predict these nulls according to the rest of features"
   ]
  },
  {
   "cell_type": "code",
   "execution_count": 99,
   "id": "858f938e",
   "metadata": {},
   "outputs": [
    {
     "data": {
      "text/html": [
       "<div>\n",
       "<style scoped>\n",
       "    .dataframe tbody tr th:only-of-type {\n",
       "        vertical-align: middle;\n",
       "    }\n",
       "\n",
       "    .dataframe tbody tr th {\n",
       "        vertical-align: top;\n",
       "    }\n",
       "\n",
       "    .dataframe thead th {\n",
       "        text-align: right;\n",
       "    }\n",
       "</style>\n",
       "<table border=\"1\" class=\"dataframe\">\n",
       "  <thead>\n",
       "    <tr style=\"text-align: right;\">\n",
       "      <th></th>\n",
       "      <th>X2</th>\n",
       "      <th>X3</th>\n",
       "      <th>X4</th>\n",
       "      <th>X5</th>\n",
       "      <th>X6</th>\n",
       "      <th>X7</th>\n",
       "      <th>X8</th>\n",
       "      <th>X9</th>\n",
       "      <th>X10</th>\n",
       "      <th>X11</th>\n",
       "      <th>X1</th>\n",
       "      <th>Y</th>\n",
       "    </tr>\n",
       "  </thead>\n",
       "  <tbody>\n",
       "    <tr>\n",
       "      <th>0</th>\n",
       "      <td>9.300</td>\n",
       "      <td>1.0</td>\n",
       "      <td>0.10</td>\n",
       "      <td>4.0</td>\n",
       "      <td>249.8092</td>\n",
       "      <td>9.0</td>\n",
       "      <td>4.0</td>\n",
       "      <td>1.0</td>\n",
       "      <td>0.0</td>\n",
       "      <td>1.0</td>\n",
       "      <td>FDA15</td>\n",
       "      <td>61.1</td>\n",
       "    </tr>\n",
       "    <tr>\n",
       "      <th>1</th>\n",
       "      <td>5.920</td>\n",
       "      <td>2.0</td>\n",
       "      <td>0.10</td>\n",
       "      <td>14.0</td>\n",
       "      <td>48.2692</td>\n",
       "      <td>3.0</td>\n",
       "      <td>8.0</td>\n",
       "      <td>1.0</td>\n",
       "      <td>2.0</td>\n",
       "      <td>2.0</td>\n",
       "      <td>DRC01</td>\n",
       "      <td>21.1</td>\n",
       "    </tr>\n",
       "    <tr>\n",
       "      <th>2</th>\n",
       "      <td>17.500</td>\n",
       "      <td>1.0</td>\n",
       "      <td>0.10</td>\n",
       "      <td>10.0</td>\n",
       "      <td>141.6180</td>\n",
       "      <td>9.0</td>\n",
       "      <td>4.0</td>\n",
       "      <td>1.0</td>\n",
       "      <td>0.0</td>\n",
       "      <td>1.0</td>\n",
       "      <td>FDN15</td>\n",
       "      <td>45.8</td>\n",
       "    </tr>\n",
       "    <tr>\n",
       "      <th>3</th>\n",
       "      <td>19.200</td>\n",
       "      <td>2.0</td>\n",
       "      <td>0.05</td>\n",
       "      <td>6.0</td>\n",
       "      <td>182.0950</td>\n",
       "      <td>0.0</td>\n",
       "      <td>3.0</td>\n",
       "      <td>1.0</td>\n",
       "      <td>2.0</td>\n",
       "      <td>0.0</td>\n",
       "      <td>FDX07</td>\n",
       "      <td>27.1</td>\n",
       "    </tr>\n",
       "    <tr>\n",
       "      <th>4</th>\n",
       "      <td>8.930</td>\n",
       "      <td>1.0</td>\n",
       "      <td>0.05</td>\n",
       "      <td>9.0</td>\n",
       "      <td>53.8614</td>\n",
       "      <td>1.0</td>\n",
       "      <td>1.0</td>\n",
       "      <td>0.0</td>\n",
       "      <td>2.0</td>\n",
       "      <td>1.0</td>\n",
       "      <td>NCD19</td>\n",
       "      <td>31.5</td>\n",
       "    </tr>\n",
       "    <tr>\n",
       "      <th>...</th>\n",
       "      <td>...</td>\n",
       "      <td>...</td>\n",
       "      <td>...</td>\n",
       "      <td>...</td>\n",
       "      <td>...</td>\n",
       "      <td>...</td>\n",
       "      <td>...</td>\n",
       "      <td>...</td>\n",
       "      <td>...</td>\n",
       "      <td>...</td>\n",
       "      <td>...</td>\n",
       "      <td>...</td>\n",
       "    </tr>\n",
       "    <tr>\n",
       "      <th>5995</th>\n",
       "      <td>20.600</td>\n",
       "      <td>1.0</td>\n",
       "      <td>0.20</td>\n",
       "      <td>6.0</td>\n",
       "      <td>94.7778</td>\n",
       "      <td>2.0</td>\n",
       "      <td>7.0</td>\n",
       "      <td>1.0</td>\n",
       "      <td>1.0</td>\n",
       "      <td>1.0</td>\n",
       "      <td>FDB32</td>\n",
       "      <td>36.3</td>\n",
       "    </tr>\n",
       "    <tr>\n",
       "      <th>5996</th>\n",
       "      <td>9.195</td>\n",
       "      <td>1.0</td>\n",
       "      <td>0.30</td>\n",
       "      <td>5.0</td>\n",
       "      <td>58.6246</td>\n",
       "      <td>9.0</td>\n",
       "      <td>4.0</td>\n",
       "      <td>1.0</td>\n",
       "      <td>0.0</td>\n",
       "      <td>1.0</td>\n",
       "      <td>FDJ16</td>\n",
       "      <td>29.5</td>\n",
       "    </tr>\n",
       "    <tr>\n",
       "      <th>5997</th>\n",
       "      <td>10.695</td>\n",
       "      <td>1.0</td>\n",
       "      <td>0.20</td>\n",
       "      <td>6.0</td>\n",
       "      <td>60.4536</td>\n",
       "      <td>7.0</td>\n",
       "      <td>5.0</td>\n",
       "      <td>1.0</td>\n",
       "      <td>1.0</td>\n",
       "      <td>1.0</td>\n",
       "      <td>FDJ32</td>\n",
       "      <td>13.6</td>\n",
       "    </tr>\n",
       "    <tr>\n",
       "      <th>5998</th>\n",
       "      <td>15.750</td>\n",
       "      <td>1.0</td>\n",
       "      <td>0.20</td>\n",
       "      <td>0.0</td>\n",
       "      <td>195.8452</td>\n",
       "      <td>6.0</td>\n",
       "      <td>6.0</td>\n",
       "      <td>2.0</td>\n",
       "      <td>1.0</td>\n",
       "      <td>1.0</td>\n",
       "      <td>FDO12</td>\n",
       "      <td>70.0</td>\n",
       "    </tr>\n",
       "    <tr>\n",
       "      <th>5999</th>\n",
       "      <td>19.600</td>\n",
       "      <td>1.0</td>\n",
       "      <td>0.20</td>\n",
       "      <td>9.0</td>\n",
       "      <td>86.9514</td>\n",
       "      <td>8.0</td>\n",
       "      <td>2.0</td>\n",
       "      <td>2.0</td>\n",
       "      <td>0.0</td>\n",
       "      <td>1.0</td>\n",
       "      <td>NCB18</td>\n",
       "      <td>37.6</td>\n",
       "    </tr>\n",
       "  </tbody>\n",
       "</table>\n",
       "<p>6000 rows × 12 columns</p>\n",
       "</div>"
      ],
      "text/plain": [
       "          X2   X3    X4    X5        X6   X7   X8   X9  X10  X11     X1     Y\n",
       "0      9.300  1.0  0.10   4.0  249.8092  9.0  4.0  1.0  0.0  1.0  FDA15  61.1\n",
       "1      5.920  2.0  0.10  14.0   48.2692  3.0  8.0  1.0  2.0  2.0  DRC01  21.1\n",
       "2     17.500  1.0  0.10  10.0  141.6180  9.0  4.0  1.0  0.0  1.0  FDN15  45.8\n",
       "3     19.200  2.0  0.05   6.0  182.0950  0.0  3.0  1.0  2.0  0.0  FDX07  27.1\n",
       "4      8.930  1.0  0.05   9.0   53.8614  1.0  1.0  0.0  2.0  1.0  NCD19  31.5\n",
       "...      ...  ...   ...   ...       ...  ...  ...  ...  ...  ...    ...   ...\n",
       "5995  20.600  1.0  0.20   6.0   94.7778  2.0  7.0  1.0  1.0  1.0  FDB32  36.3\n",
       "5996   9.195  1.0  0.30   5.0   58.6246  9.0  4.0  1.0  0.0  1.0  FDJ16  29.5\n",
       "5997  10.695  1.0  0.20   6.0   60.4536  7.0  5.0  1.0  1.0  1.0  FDJ32  13.6\n",
       "5998  15.750  1.0  0.20   0.0  195.8452  6.0  6.0  2.0  1.0  1.0  FDO12  70.0\n",
       "5999  19.600  1.0  0.20   9.0   86.9514  8.0  2.0  2.0  0.0  1.0  NCB18  37.6\n",
       "\n",
       "[6000 rows x 12 columns]"
      ]
     },
     "execution_count": 99,
     "metadata": {},
     "output_type": "execute_result"
    }
   ],
   "source": [
    "imp = IterativeImputer(random_state=42,estimator = LinearRegression(), max_iter = 10, n_nearest_features = 2, skip_complete = True)\n",
    "imp_df_train = imp.fit_transform(df_train.drop([\"X1\",\"Y\"],axis = 1))\n",
    "imp_df_train = pd.DataFrame(imp_df_train)\n",
    "imp_df_train = pd.concat([imp_df_train,df_train[[\"X1\",\"Y\"]]], axis = 1)\n",
    "imp_df_train.columns = [\"X2\",\"X3\",\"X4\",\"X5\",\"X6\",\"X7\",\"X8\",\"X9\",\"X10\",\"X11\",\"X1\",\"Y\"]\n",
    "\n",
    "imp_df_train"
   ]
  },
  {
   "cell_type": "code",
   "execution_count": 100,
   "id": "87c9a86a",
   "metadata": {},
   "outputs": [
    {
     "data": {
      "text/plain": [
       "X2     0\n",
       "X3     0\n",
       "X4     0\n",
       "X5     0\n",
       "X6     0\n",
       "X7     0\n",
       "X8     0\n",
       "X9     0\n",
       "X10    0\n",
       "X11    0\n",
       "X1     0\n",
       "Y      0\n",
       "dtype: int64"
      ]
     },
     "execution_count": 100,
     "metadata": {},
     "output_type": "execute_result"
    }
   ],
   "source": [
    "imp_df_train.isna().sum()"
   ]
  },
  {
   "cell_type": "code",
   "execution_count": 101,
   "id": "714e1275",
   "metadata": {},
   "outputs": [],
   "source": [
    "#df_train.X2.fillna(np.mean(df_train.X2), inplace= True)\n",
    "#df_test.X2.fillna(np.mean(df_test.X2), inplace= True)"
   ]
  },
  {
   "cell_type": "markdown",
   "id": "04c5eff6",
   "metadata": {},
   "source": [
    "## Check the corelations between our features as heatmap"
   ]
  },
  {
   "cell_type": "code",
   "execution_count": 102,
   "id": "a7255f0a",
   "metadata": {
    "scrolled": false
   },
   "outputs": [
    {
     "data": {
      "text/plain": [
       "<AxesSubplot:>"
      ]
     },
     "execution_count": 102,
     "metadata": {},
     "output_type": "execute_result"
    },
    {
     "data": {
      "image/png": "[encoded data removed]",
      "text/plain": [
       "<Figure size 1440x720 with 2 Axes>"
      ]
     },
     "metadata": {},
     "output_type": "display_data"
    }
   ],
   "source": [
    "plt.figure(figsize=(20,10))\n",
    "sns.heatmap(imp_df_train.corr(),annot=True)"
   ]
  },
  {
   "cell_type": "markdown",
   "id": "a094c6a5",
   "metadata": {},
   "source": [
    "## Dropping feature with bad corelations"
   ]
  },
  {
   "cell_type": "code",
   "execution_count": 103,
   "id": "861c404f",
   "metadata": {},
   "outputs": [],
   "source": [
    "#df_train = imp_df_train.drop(['X2','X3','X5','X8'],axis=1)\n",
    "#df_test = imp_df_test.drop(['X2','X3','X5','X8'],axis=1)"
   ]
  },
  {
   "cell_type": "code",
   "execution_count": 104,
   "id": "b09d4cd8",
   "metadata": {},
   "outputs": [],
   "source": [
    "df_train = imp_df_train"
   ]
  },
  {
   "cell_type": "code",
   "execution_count": 105,
   "id": "22e5bf4a",
   "metadata": {},
   "outputs": [
    {
     "data": {
      "text/plain": [
       "X2     0\n",
       "X3     0\n",
       "X4     0\n",
       "X5     0\n",
       "X6     0\n",
       "X7     0\n",
       "X8     0\n",
       "X9     0\n",
       "X10    0\n",
       "X11    0\n",
       "X1     0\n",
       "Y      0\n",
       "dtype: int64"
      ]
     },
     "execution_count": 105,
     "metadata": {},
     "output_type": "execute_result"
    }
   ],
   "source": [
    "df_train.isna().sum()"
   ]
  },
  {
   "cell_type": "markdown",
   "id": "a6971d5f",
   "metadata": {},
   "source": [
    "## Split dataset as X (features) and y (target) then apply StandardScaler as normalization technique"
   ]
  },
  {
   "cell_type": "code",
   "execution_count": 106,
   "id": "1b5fab27",
   "metadata": {},
   "outputs": [],
   "source": [
    "X = df_train.drop(['Y','X1'], axis=1)\n",
    "y = df_train['Y']"
   ]
  },
  {
   "cell_type": "code",
   "execution_count": 107,
   "id": "ef712cd9",
   "metadata": {},
   "outputs": [
    {
     "data": {
      "text/html": [
       "<div>\n",
       "<style scoped>\n",
       "    .dataframe tbody tr th:only-of-type {\n",
       "        vertical-align: middle;\n",
       "    }\n",
       "\n",
       "    .dataframe tbody tr th {\n",
       "        vertical-align: top;\n",
       "    }\n",
       "\n",
       "    .dataframe thead th {\n",
       "        text-align: right;\n",
       "    }\n",
       "</style>\n",
       "<table border=\"1\" class=\"dataframe\">\n",
       "  <thead>\n",
       "    <tr style=\"text-align: right;\">\n",
       "      <th></th>\n",
       "      <th>X2</th>\n",
       "      <th>X3</th>\n",
       "      <th>X4</th>\n",
       "      <th>X5</th>\n",
       "      <th>X6</th>\n",
       "      <th>X7</th>\n",
       "      <th>X8</th>\n",
       "      <th>X9</th>\n",
       "      <th>X10</th>\n",
       "      <th>X11</th>\n",
       "    </tr>\n",
       "  </thead>\n",
       "  <tbody>\n",
       "    <tr>\n",
       "      <th>0</th>\n",
       "      <td>-0.859489</td>\n",
       "      <td>-0.572015</td>\n",
       "      <td>-1.337201</td>\n",
       "      <td>-0.761685</td>\n",
       "      <td>1.736314</td>\n",
       "      <td>1.504304</td>\n",
       "      <td>0.077245</td>\n",
       "      <td>-0.279011</td>\n",
       "      <td>-1.382381</td>\n",
       "      <td>-0.256342</td>\n",
       "    </tr>\n",
       "    <tr>\n",
       "      <th>1</th>\n",
       "      <td>-1.654643</td>\n",
       "      <td>0.987316</td>\n",
       "      <td>-1.337201</td>\n",
       "      <td>1.612891</td>\n",
       "      <td>-1.486503</td>\n",
       "      <td>-0.609637</td>\n",
       "      <td>1.549752</td>\n",
       "      <td>-0.279011</td>\n",
       "      <td>1.090572</td>\n",
       "      <td>1.006425</td>\n",
       "    </tr>\n",
       "    <tr>\n",
       "      <th>2</th>\n",
       "      <td>1.069584</td>\n",
       "      <td>-0.572015</td>\n",
       "      <td>-1.337201</td>\n",
       "      <td>0.663061</td>\n",
       "      <td>0.006233</td>\n",
       "      <td>1.504304</td>\n",
       "      <td>0.077245</td>\n",
       "      <td>-0.279011</td>\n",
       "      <td>-1.382381</td>\n",
       "      <td>-0.256342</td>\n",
       "    </tr>\n",
       "    <tr>\n",
       "      <th>3</th>\n",
       "      <td>1.469514</td>\n",
       "      <td>0.987316</td>\n",
       "      <td>-1.823662</td>\n",
       "      <td>-0.286770</td>\n",
       "      <td>0.653499</td>\n",
       "      <td>-1.666608</td>\n",
       "      <td>-0.290881</td>\n",
       "      <td>-0.279011</td>\n",
       "      <td>1.090572</td>\n",
       "      <td>-1.519109</td>\n",
       "    </tr>\n",
       "    <tr>\n",
       "      <th>4</th>\n",
       "      <td>-0.946532</td>\n",
       "      <td>-0.572015</td>\n",
       "      <td>-1.823662</td>\n",
       "      <td>0.425603</td>\n",
       "      <td>-1.397078</td>\n",
       "      <td>-1.314284</td>\n",
       "      <td>-1.027135</td>\n",
       "      <td>-1.936501</td>\n",
       "      <td>1.090572</td>\n",
       "      <td>-0.256342</td>\n",
       "    </tr>\n",
       "    <tr>\n",
       "      <th>...</th>\n",
       "      <td>...</td>\n",
       "      <td>...</td>\n",
       "      <td>...</td>\n",
       "      <td>...</td>\n",
       "      <td>...</td>\n",
       "      <td>...</td>\n",
       "      <td>...</td>\n",
       "      <td>...</td>\n",
       "      <td>...</td>\n",
       "      <td>...</td>\n",
       "    </tr>\n",
       "    <tr>\n",
       "      <th>5995</th>\n",
       "      <td>1.798868</td>\n",
       "      <td>-0.572015</td>\n",
       "      <td>-0.364278</td>\n",
       "      <td>-0.286770</td>\n",
       "      <td>-0.742786</td>\n",
       "      <td>-0.961961</td>\n",
       "      <td>1.181625</td>\n",
       "      <td>-0.279011</td>\n",
       "      <td>-0.145904</td>\n",
       "      <td>-0.256342</td>\n",
       "    </tr>\n",
       "    <tr>\n",
       "      <th>5996</th>\n",
       "      <td>-0.884190</td>\n",
       "      <td>-0.572015</td>\n",
       "      <td>0.608644</td>\n",
       "      <td>-0.524227</td>\n",
       "      <td>-1.320910</td>\n",
       "      <td>1.504304</td>\n",
       "      <td>0.077245</td>\n",
       "      <td>-0.279011</td>\n",
       "      <td>-1.382381</td>\n",
       "      <td>-0.256342</td>\n",
       "    </tr>\n",
       "    <tr>\n",
       "      <th>5997</th>\n",
       "      <td>-0.531311</td>\n",
       "      <td>-0.572015</td>\n",
       "      <td>-0.364278</td>\n",
       "      <td>-0.286770</td>\n",
       "      <td>-1.291663</td>\n",
       "      <td>0.799657</td>\n",
       "      <td>0.445372</td>\n",
       "      <td>-0.279011</td>\n",
       "      <td>-0.145904</td>\n",
       "      <td>-0.256342</td>\n",
       "    </tr>\n",
       "    <tr>\n",
       "      <th>5998</th>\n",
       "      <td>0.657892</td>\n",
       "      <td>-0.572015</td>\n",
       "      <td>-0.364278</td>\n",
       "      <td>-1.711515</td>\n",
       "      <td>0.873378</td>\n",
       "      <td>0.447334</td>\n",
       "      <td>0.813498</td>\n",
       "      <td>1.378479</td>\n",
       "      <td>-0.145904</td>\n",
       "      <td>-0.256342</td>\n",
       "    </tr>\n",
       "    <tr>\n",
       "      <th>5999</th>\n",
       "      <td>1.563615</td>\n",
       "      <td>-0.572015</td>\n",
       "      <td>-0.364278</td>\n",
       "      <td>0.425603</td>\n",
       "      <td>-0.867938</td>\n",
       "      <td>1.151981</td>\n",
       "      <td>-0.659008</td>\n",
       "      <td>1.378479</td>\n",
       "      <td>-1.382381</td>\n",
       "      <td>-0.256342</td>\n",
       "    </tr>\n",
       "  </tbody>\n",
       "</table>\n",
       "<p>6000 rows × 10 columns</p>\n",
       "</div>"
      ],
      "text/plain": [
       "            X2        X3        X4        X5        X6        X7        X8  \\\n",
       "0    -0.859489 -0.572015 -1.337201 -0.761685  1.736314  1.504304  0.077245   \n",
       "1    -1.654643  0.987316 -1.337201  1.612891 -1.486503 -0.609637  1.549752   \n",
       "2     1.069584 -0.572015 -1.337201  0.663061  0.006233  1.504304  0.077245   \n",
       "3     1.469514  0.987316 -1.823662 -0.286770  0.653499 -1.666608 -0.290881   \n",
       "4    -0.946532 -0.572015 -1.823662  0.425603 -1.397078 -1.314284 -1.027135   \n",
       "...        ...       ...       ...       ...       ...       ...       ...   \n",
       "5995  1.798868 -0.572015 -0.364278 -0.286770 -0.742786 -0.961961  1.181625   \n",
       "5996 -0.884190 -0.572015  0.608644 -0.524227 -1.320910  1.504304  0.077245   \n",
       "5997 -0.531311 -0.572015 -0.364278 -0.286770 -1.291663  0.799657  0.445372   \n",
       "5998  0.657892 -0.572015 -0.364278 -1.711515  0.873378  0.447334  0.813498   \n",
       "5999  1.563615 -0.572015 -0.364278  0.425603 -0.867938  1.151981 -0.659008   \n",
       "\n",
       "            X9       X10       X11  \n",
       "0    -0.279011 -1.382381 -0.256342  \n",
       "1    -0.279011  1.090572  1.006425  \n",
       "2    -0.279011 -1.382381 -0.256342  \n",
       "3    -0.279011  1.090572 -1.519109  \n",
       "4    -1.936501  1.090572 -0.256342  \n",
       "...        ...       ...       ...  \n",
       "5995 -0.279011 -0.145904 -0.256342  \n",
       "5996 -0.279011 -1.382381 -0.256342  \n",
       "5997 -0.279011 -0.145904 -0.256342  \n",
       "5998  1.378479 -0.145904 -0.256342  \n",
       "5999  1.378479 -1.382381 -0.256342  \n",
       "\n",
       "[6000 rows x 10 columns]"
      ]
     },
     "execution_count": 107,
     "metadata": {},
     "output_type": "execute_result"
    }
   ],
   "source": [
    "s = StandardScaler()\n",
    "X = s.fit_transform(X)\n",
    "X = pd.DataFrame(X,columns=df_train.drop(['Y','X1'], axis=1).columns)\n",
    "X"
   ]
  },
  {
   "cell_type": "markdown",
   "id": "b212cf8b",
   "metadata": {},
   "source": [
    "## Function for preprocessing as training data for any test data given"
   ]
  },
  {
   "cell_type": "code",
   "execution_count": 108,
   "id": "9fcd7cd4",
   "metadata": {},
   "outputs": [],
   "source": [
    "def preprocessingg(df_test):\n",
    "    categorical_features = ['X3', 'X5', 'X7', 'X8','X9', 'X10', 'X11']\n",
    "    numerical_features = ['X2', 'X4', 'X6','Y']\n",
    "    df_test['X4']=round(np.sqrt(df_test['X4']),1)\n",
    "    Inter_Quartile_Range = df_test['X4'].quantile(0.75) - df_test['X4'].quantile(0.25)\n",
    "    lower_boundary = df_test['X4'].quantile(0.25) - (Inter_Quartile_Range * 1.5)\n",
    "    upper_boundary = df_test['X4'].quantile(0.75) + (Inter_Quartile_Range * 1.5)\n",
    "    df_test['X4']= np.where(df_test['X4'] > upper_boundary, upper_boundary,np.where(df_test['X4'] < lower_boundary,lower_boundary,df_test['X4']))\n",
    "    df_test['X9'].fillna('Medium', inplace= True)\n",
    "    le = preprocessing.LabelEncoder()\n",
    "    for i in categorical_features:\n",
    "        df_test[i]= le.fit_transform(df_test[i])\n",
    "    imp_df_test = imp.transform(df_test.drop([\"X1\"],axis = 1))\n",
    "    imp_df_test = pd.DataFrame(imp_df_test)\n",
    "    imp_df_test = pd.concat([imp_df_test,df_test[[\"X1\"]]], axis = 1)\n",
    "    imp_df_test.columns = [\"X2\",\"X3\",\"X4\",\"X5\",\"X6\",\"X7\",\"X8\",\"X9\",\"X10\",\"X11\",\"X1\"]\n",
    "    x_test = imp_df_test.drop(['X1'], axis=1)\n",
    "    x_test = s.transform(x_test)\n",
    "    x_test = pd.DataFrame(x_test,columns=df_test.drop(['X1'], axis=1).columns)\n",
    "\n",
    "    return x_test"
   ]
  },
  {
   "cell_type": "code",
   "execution_count": 109,
   "id": "38ff062c",
   "metadata": {},
   "outputs": [
    {
     "data": {
      "text/html": [
       "<div>\n",
       "<style scoped>\n",
       "    .dataframe tbody tr th:only-of-type {\n",
       "        vertical-align: middle;\n",
       "    }\n",
       "\n",
       "    .dataframe tbody tr th {\n",
       "        vertical-align: top;\n",
       "    }\n",
       "\n",
       "    .dataframe thead th {\n",
       "        text-align: right;\n",
       "    }\n",
       "</style>\n",
       "<table border=\"1\" class=\"dataframe\">\n",
       "  <thead>\n",
       "    <tr style=\"text-align: right;\">\n",
       "      <th></th>\n",
       "      <th>X2</th>\n",
       "      <th>X3</th>\n",
       "      <th>X4</th>\n",
       "      <th>X5</th>\n",
       "      <th>X6</th>\n",
       "      <th>X7</th>\n",
       "      <th>X8</th>\n",
       "      <th>X9</th>\n",
       "      <th>X10</th>\n",
       "      <th>X11</th>\n",
       "    </tr>\n",
       "  </thead>\n",
       "  <tbody>\n",
       "    <tr>\n",
       "      <th>0</th>\n",
       "      <td>-0.018457</td>\n",
       "      <td>-0.572015</td>\n",
       "      <td>-1.337201</td>\n",
       "      <td>-1.236600</td>\n",
       "      <td>1.405675</td>\n",
       "      <td>0.095010</td>\n",
       "      <td>-1.395261</td>\n",
       "      <td>-0.279011</td>\n",
       "      <td>1.090572</td>\n",
       "      <td>2.269192</td>\n",
       "    </tr>\n",
       "    <tr>\n",
       "      <th>1</th>\n",
       "      <td>1.034296</td>\n",
       "      <td>0.987316</td>\n",
       "      <td>-0.364278</td>\n",
       "      <td>-0.999142</td>\n",
       "      <td>-0.880184</td>\n",
       "      <td>-1.314284</td>\n",
       "      <td>-1.027135</td>\n",
       "      <td>-1.936501</td>\n",
       "      <td>1.090572</td>\n",
       "      <td>-0.256342</td>\n",
       "    </tr>\n",
       "    <tr>\n",
       "      <th>2</th>\n",
       "      <td>-0.859489</td>\n",
       "      <td>-0.572015</td>\n",
       "      <td>0.608644</td>\n",
       "      <td>-0.524227</td>\n",
       "      <td>0.657244</td>\n",
       "      <td>-1.666608</td>\n",
       "      <td>-0.290881</td>\n",
       "      <td>-0.279011</td>\n",
       "      <td>1.090572</td>\n",
       "      <td>-1.519109</td>\n",
       "    </tr>\n",
       "    <tr>\n",
       "      <th>3</th>\n",
       "      <td>-1.468793</td>\n",
       "      <td>0.987316</td>\n",
       "      <td>-0.364278</td>\n",
       "      <td>-1.711515</td>\n",
       "      <td>-1.212338</td>\n",
       "      <td>1.504304</td>\n",
       "      <td>0.077245</td>\n",
       "      <td>-0.279011</td>\n",
       "      <td>-1.382381</td>\n",
       "      <td>-0.256342</td>\n",
       "    </tr>\n",
       "    <tr>\n",
       "      <th>4</th>\n",
       "      <td>0.975483</td>\n",
       "      <td>-0.572015</td>\n",
       "      <td>1.581566</td>\n",
       "      <td>-0.286770</td>\n",
       "      <td>-0.507546</td>\n",
       "      <td>-0.961961</td>\n",
       "      <td>1.181625</td>\n",
       "      <td>-0.279011</td>\n",
       "      <td>-0.145904</td>\n",
       "      <td>-0.256342</td>\n",
       "    </tr>\n",
       "  </tbody>\n",
       "</table>\n",
       "</div>"
      ],
      "text/plain": [
       "         X2        X3        X4        X5        X6        X7        X8  \\\n",
       "0 -0.018457 -0.572015 -1.337201 -1.236600  1.405675  0.095010 -1.395261   \n",
       "1  1.034296  0.987316 -0.364278 -0.999142 -0.880184 -1.314284 -1.027135   \n",
       "2 -0.859489 -0.572015  0.608644 -0.524227  0.657244 -1.666608 -0.290881   \n",
       "3 -1.468793  0.987316 -0.364278 -1.711515 -1.212338  1.504304  0.077245   \n",
       "4  0.975483 -0.572015  1.581566 -0.286770 -0.507546 -0.961961  1.181625   \n",
       "\n",
       "         X9       X10       X11  \n",
       "0 -0.279011  1.090572  2.269192  \n",
       "1 -1.936501  1.090572 -0.256342  \n",
       "2 -0.279011  1.090572 -1.519109  \n",
       "3 -0.279011 -1.382381 -0.256342  \n",
       "4 -0.279011 -0.145904 -0.256342  "
      ]
     },
     "execution_count": 109,
     "metadata": {},
     "output_type": "execute_result"
    }
   ],
   "source": [
    "x_test = preprocessingg(df_test)\n",
    "x_test.head()"
   ]
  },
  {
   "cell_type": "markdown",
   "id": "952f31ed",
   "metadata": {},
   "source": [
    "## Splitting dataset into train and validation (80% and 20%)"
   ]
  },
  {
   "cell_type": "code",
   "execution_count": 110,
   "id": "747260ac",
   "metadata": {},
   "outputs": [
    {
     "data": {
      "text/plain": [
       "(5400,)"
      ]
     },
     "execution_count": 110,
     "metadata": {},
     "output_type": "execute_result"
    }
   ],
   "source": [
    "from sklearn.model_selection import train_test_split  \n",
    "\n",
    "x_train, x_val, y_train, y_val = train_test_split(X, y, test_size= 0.1, random_state=1)  \n",
    "\n",
    "np.shape(y_train)"
   ]
  },
  {
   "cell_type": "code",
   "execution_count": 111,
   "id": "592b65ff",
   "metadata": {},
   "outputs": [
    {
     "name": "stdout",
     "output_type": "stream",
     "text": [
      "Accuracy of model on train set: 69 %\n",
      "Accuracy of model on test set: 66 %\n",
      "mse of model on train set: 10.21\n",
      "mse of model on test set: 10.58\n"
     ]
    },
    {
     "name": "stderr",
     "output_type": "stream",
     "text": [
      "D:\\Anaconda\\lib\\site-packages\\sklearn\\neural_network\\_multilayer_perceptron.py:702: ConvergenceWarning: Stochastic Optimizer: Maximum iterations (200) reached and the optimization hasn't converged yet.\n",
      "  warnings.warn(\n"
     ]
    }
   ],
   "source": [
    "model = MLPRegressor()\n",
    "# training all the model on the training dataset\n",
    "model.fit(x_train, y_train)\n",
    "# predicting the output on the validation dataset\n",
    "pred = model.predict(x_test)\n",
    "y_pred = model.predict(x_train)\n",
    "y_pred2 = model.predict(x_val)\n",
    "\n",
    "# printing the root mean squared error between real value and predicted value\n",
    "print('Accuracy of model on train set: {:.0f} %'.format(model.score(x_train, y_train)*100))\n",
    "print('Accuracy of model on test set: {:.0f} %'.format(model.score(x_val, y_val)*100))\n",
    "print('mse of model on train set: {:.2f}'.format(np.sqrt(mean_squared_error(y_train, y_pred))))\n",
    "print('mse of model on test set: {:.2f}'.format(np.sqrt(mean_squared_error(y_val, y_pred2))))"
   ]
  },
  {
   "cell_type": "markdown",
   "id": "2abcfddd",
   "metadata": {},
   "source": [
    "### Function to apply techniques of regression on our dataset and display accuracies and mean square errors on train and test sets, then sorting those techniques descendingly according to accuracy on test set, then showing in dataframe"
   ]
  },
  {
   "cell_type": "code",
   "execution_count": 75,
   "id": "0a955964",
   "metadata": {},
   "outputs": [],
   "source": [
    "def data_training(x_train, x_val, y_train, y_val):\n",
    "\n",
    "    models = []\n",
    "    models.append(('RF',RandomForestRegressor()))\n",
    "    models.append(('GBM',GradientBoostingRegressor()))\n",
    "    models.append(('LightGBM',lgb.LGBMRegressor()))\n",
    "    models.append(('LR',LinearRegression()))\n",
    "    models.append(('Catboost',CatBoostRegressor(silent = True)))\n",
    "    models.append(('MLP',MLPRegressor()))\n",
    "    models.append(('SVM',SVR()))\n",
    "    models.append(('Xgb',xgb.XGBRegressor()))\n",
    "\n",
    "    df_result = pd.DataFrame(columns=[\"model\",\"Accuracy of model on train set\",\"Accuracy of model on test set\",\"mse of model on train set\",\"mse of model on test set\"])\n",
    "    index = 0\n",
    "    for name,model in models:\n",
    "        model.fit(x_train,y_train)\n",
    "        y_pred = model.predict(x_train)\n",
    "        y_pred2 = model.predict(x_val)\n",
    "        train_score = model.score(x_train, y_train)\n",
    "        test_score = model.score(x_val, y_val)\n",
    "        train_mse = np.sqrt(mean_squared_error(y_train, y_pred))\n",
    "        test_mse = np.sqrt(mean_squared_error(y_val, y_pred2))\n",
    "        df_result.at[index,['model','Accuracy of model on train set','Accuracy of model on test set',\"mse of model on train set\",\"mse of model on test set\"]] = [name,train_score,test_score,train_mse,test_mse]\n",
    "        index += 1\n",
    "    return df_result.sort_values(\"Accuracy of model on test set\",ascending=False)"
   ]
  },
  {
   "cell_type": "code",
   "execution_count": 76,
   "id": "9650507e",
   "metadata": {},
   "outputs": [
    {
     "name": "stderr",
     "output_type": "stream",
     "text": [
      "D:\\Anaconda\\lib\\site-packages\\sklearn\\neural_network\\_multilayer_perceptron.py:702: ConvergenceWarning: Stochastic Optimizer: Maximum iterations (200) reached and the optimization hasn't converged yet.\n",
      "  warnings.warn(\n"
     ]
    },
    {
     "data": {
      "text/html": [
       "<div>\n",
       "<style scoped>\n",
       "    .dataframe tbody tr th:only-of-type {\n",
       "        vertical-align: middle;\n",
       "    }\n",
       "\n",
       "    .dataframe tbody tr th {\n",
       "        vertical-align: top;\n",
       "    }\n",
       "\n",
       "    .dataframe thead th {\n",
       "        text-align: right;\n",
       "    }\n",
       "</style>\n",
       "<table border=\"1\" class=\"dataframe\">\n",
       "  <thead>\n",
       "    <tr style=\"text-align: right;\">\n",
       "      <th></th>\n",
       "      <th>model</th>\n",
       "      <th>Accuracy of model on train set</th>\n",
       "      <th>Accuracy of model on test set</th>\n",
       "      <th>mse of model on train set</th>\n",
       "      <th>mse of model on test set</th>\n",
       "    </tr>\n",
       "  </thead>\n",
       "  <tbody>\n",
       "    <tr>\n",
       "      <th>1</th>\n",
       "      <td>GBM</td>\n",
       "      <td>0.704828</td>\n",
       "      <td>0.663184</td>\n",
       "      <td>9.899565</td>\n",
       "      <td>10.727342</td>\n",
       "    </tr>\n",
       "    <tr>\n",
       "      <th>5</th>\n",
       "      <td>MLP</td>\n",
       "      <td>0.688523</td>\n",
       "      <td>0.662064</td>\n",
       "      <td>10.169318</td>\n",
       "      <td>10.74517</td>\n",
       "    </tr>\n",
       "    <tr>\n",
       "      <th>4</th>\n",
       "      <td>Catboost</td>\n",
       "      <td>0.807714</td>\n",
       "      <td>0.64147</td>\n",
       "      <td>7.990108</td>\n",
       "      <td>11.067739</td>\n",
       "    </tr>\n",
       "    <tr>\n",
       "      <th>2</th>\n",
       "      <td>LightGBM</td>\n",
       "      <td>0.776578</td>\n",
       "      <td>0.640709</td>\n",
       "      <td>8.612753</td>\n",
       "      <td>11.079477</td>\n",
       "    </tr>\n",
       "    <tr>\n",
       "      <th>6</th>\n",
       "      <td>SVM</td>\n",
       "      <td>0.662231</td>\n",
       "      <td>0.638867</td>\n",
       "      <td>10.58982</td>\n",
       "      <td>11.107841</td>\n",
       "    </tr>\n",
       "    <tr>\n",
       "      <th>0</th>\n",
       "      <td>RF</td>\n",
       "      <td>0.949588</td>\n",
       "      <td>0.624961</td>\n",
       "      <td>4.091141</td>\n",
       "      <td>11.319683</td>\n",
       "    </tr>\n",
       "    <tr>\n",
       "      <th>7</th>\n",
       "      <td>Xgb</td>\n",
       "      <td>0.885614</td>\n",
       "      <td>0.60945</td>\n",
       "      <td>6.162608</td>\n",
       "      <td>11.551385</td>\n",
       "    </tr>\n",
       "    <tr>\n",
       "      <th>3</th>\n",
       "      <td>LR</td>\n",
       "      <td>0.575092</td>\n",
       "      <td>0.565502</td>\n",
       "      <td>11.87753</td>\n",
       "      <td>12.184003</td>\n",
       "    </tr>\n",
       "  </tbody>\n",
       "</table>\n",
       "</div>"
      ],
      "text/plain": [
       "      model Accuracy of model on train set Accuracy of model on test set  \\\n",
       "1       GBM                       0.704828                      0.663184   \n",
       "5       MLP                       0.688523                      0.662064   \n",
       "4  Catboost                       0.807714                       0.64147   \n",
       "2  LightGBM                       0.776578                      0.640709   \n",
       "6       SVM                       0.662231                      0.638867   \n",
       "0        RF                       0.949588                      0.624961   \n",
       "7       Xgb                       0.885614                       0.60945   \n",
       "3        LR                       0.575092                      0.565502   \n",
       "\n",
       "  mse of model on train set mse of model on test set  \n",
       "1                  9.899565                10.727342  \n",
       "5                 10.169318                 10.74517  \n",
       "4                  7.990108                11.067739  \n",
       "2                  8.612753                11.079477  \n",
       "6                  10.58982                11.107841  \n",
       "0                  4.091141                11.319683  \n",
       "7                  6.162608                11.551385  \n",
       "3                  11.87753                12.184003  "
      ]
     },
     "execution_count": 76,
     "metadata": {},
     "output_type": "execute_result"
    }
   ],
   "source": [
    "dt = data_training(x_train, x_val, y_train, y_val)\n",
    "dt"
   ]
  },
  {
   "cell_type": "code",
   "execution_count": 112,
   "id": "c4d2b5cd",
   "metadata": {},
   "outputs": [],
   "source": [
    "df_test['row_id'] = np.arange(0,2523)\n",
    "\n",
    "df_test['Y'] = pred\n",
    "df_test['Y']=round(df_test['Y']**2,1)\n",
    "\n",
    "df_test.drop(df_test.iloc[:,0:-2], inplace= True, axis = 1)\n",
    "df_test.to_csv('draft.csv', index=False)"
   ]
  },
  {
   "cell_type": "code",
   "execution_count": 113,
   "id": "c7cfbea6",
   "metadata": {},
   "outputs": [
    {
     "data": {
      "text/html": [
       "<div>\n",
       "<style scoped>\n",
       "    .dataframe tbody tr th:only-of-type {\n",
       "        vertical-align: middle;\n",
       "    }\n",
       "\n",
       "    .dataframe tbody tr th {\n",
       "        vertical-align: top;\n",
       "    }\n",
       "\n",
       "    .dataframe thead th {\n",
       "        text-align: right;\n",
       "    }\n",
       "</style>\n",
       "<table border=\"1\" class=\"dataframe\">\n",
       "  <thead>\n",
       "    <tr style=\"text-align: right;\">\n",
       "      <th></th>\n",
       "      <th>row_id</th>\n",
       "      <th>Y</th>\n",
       "    </tr>\n",
       "  </thead>\n",
       "  <tbody>\n",
       "    <tr>\n",
       "      <th>0</th>\n",
       "      <td>0</td>\n",
       "      <td>5859.9</td>\n",
       "    </tr>\n",
       "    <tr>\n",
       "      <th>1</th>\n",
       "      <td>1</td>\n",
       "      <td>1214.6</td>\n",
       "    </tr>\n",
       "    <tr>\n",
       "      <th>2</th>\n",
       "      <td>2</td>\n",
       "      <td>365.1</td>\n",
       "    </tr>\n",
       "    <tr>\n",
       "      <th>3</th>\n",
       "      <td>3</td>\n",
       "      <td>976.8</td>\n",
       "    </tr>\n",
       "    <tr>\n",
       "      <th>4</th>\n",
       "      <td>4</td>\n",
       "      <td>1652.6</td>\n",
       "    </tr>\n",
       "    <tr>\n",
       "      <th>...</th>\n",
       "      <td>...</td>\n",
       "      <td>...</td>\n",
       "    </tr>\n",
       "    <tr>\n",
       "      <th>2518</th>\n",
       "      <td>2518</td>\n",
       "      <td>3126.7</td>\n",
       "    </tr>\n",
       "    <tr>\n",
       "      <th>2519</th>\n",
       "      <td>2519</td>\n",
       "      <td>1685.0</td>\n",
       "    </tr>\n",
       "    <tr>\n",
       "      <th>2520</th>\n",
       "      <td>2520</td>\n",
       "      <td>1273.6</td>\n",
       "    </tr>\n",
       "    <tr>\n",
       "      <th>2521</th>\n",
       "      <td>2521</td>\n",
       "      <td>1389.3</td>\n",
       "    </tr>\n",
       "    <tr>\n",
       "      <th>2522</th>\n",
       "      <td>2522</td>\n",
       "      <td>1119.9</td>\n",
       "    </tr>\n",
       "  </tbody>\n",
       "</table>\n",
       "<p>2523 rows × 2 columns</p>\n",
       "</div>"
      ],
      "text/plain": [
       "      row_id       Y\n",
       "0          0  5859.9\n",
       "1          1  1214.6\n",
       "2          2   365.1\n",
       "3          3   976.8\n",
       "4          4  1652.6\n",
       "...      ...     ...\n",
       "2518    2518  3126.7\n",
       "2519    2519  1685.0\n",
       "2520    2520  1273.6\n",
       "2521    2521  1389.3\n",
       "2522    2522  1119.9\n",
       "\n",
       "[2523 rows x 2 columns]"
      ]
     },
     "execution_count": 113,
     "metadata": {},
     "output_type": "execute_result"
    }
   ],
   "source": [
    "df_test"
   ]
  },
  {
   "cell_type": "code",
   "execution_count": null,
   "id": "ad94c3af",
   "metadata": {},
   "outputs": [],
   "source": []
  }
 ],
 "metadata": {
  "kernelspec": {
   "display_name": "Python 3",
   "language": "python",
   "name": "python3"
  },
  "language_info": {
   "codemirror_mode": {
    "name": "ipython",
    "version": 3
   },
   "file_extension": ".py",
   "mimetype": "text/x-python",
   "name": "python",
   "nbconvert_exporter": "python",
   "pygments_lexer": "ipython3",
   "version": "3.8.8"
  }
 },
 "nbformat": 4,
 "nbformat_minor": 5
}
